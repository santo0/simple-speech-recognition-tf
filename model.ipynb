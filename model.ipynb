{
 "cells": [
  {
   "cell_type": "code",
   "execution_count": 5,
   "id": "76c0d04d",
   "metadata": {
    "gradient": {}
   },
   "outputs": [],
   "source": [
    "import os\n",
    "import pathlib\n",
    "\n",
    "import matplotlib.pyplot as plt\n",
    "import numpy as np\n",
    "import seaborn as sns\n",
    "import tensorflow as tf\n",
    "\n",
    "from tensorflow.keras.layers.experimental import preprocessing\n",
    "from tensorflow.keras import layers\n",
    "from tensorflow.keras import models\n",
    "from IPython import display\n",
    "\n",
    "from tensorboard.plugins.hparams import api as hp\n",
    "\n",
    "# Set seed for experiment reproducibility\n",
    "seed = 42\n",
    "tf.random.set_seed(seed)\n",
    "np.random.seed(seed)\n"
   ]
  },
  {
   "cell_type": "markdown",
   "id": "21c05ce1",
   "metadata": {},
   "source": [
    "Load the TensorBoard notebook extension."
   ]
  },
  {
   "cell_type": "code",
   "execution_count": 6,
   "id": "0c391401-09f0-474a-8d2b-7ad5a74e8870",
   "metadata": {
    "gradient": {}
   },
   "outputs": [
    {
     "name": "stdout",
     "output_type": "stream",
     "text": [
      "The tensorboard extension is already loaded. To reload it, use:\n",
      "  %reload_ext tensorboard\n"
     ]
    }
   ],
   "source": [
    "%load_ext tensorboard\n"
   ]
  },
  {
   "cell_type": "markdown",
   "id": "8dcbeb6c",
   "metadata": {},
   "source": [
    "Clear any logs from previous runs\n"
   ]
  },
  {
   "cell_type": "code",
   "execution_count": 7,
   "id": "dea3bef4-82aa-491f-aecd-9b9eb8a02fa9",
   "metadata": {
    "gradient": {}
   },
   "outputs": [
    {
     "name": "stderr",
     "output_type": "stream",
     "text": [
      "\"rm\" no se reconoce como un comando interno o externo,\n",
      "programa o archivo por lotes ejecutable.\n"
     ]
    }
   ],
   "source": [
    "! rm -rf ./logs/"
   ]
  },
  {
   "cell_type": "markdown",
   "id": "2ee09252",
   "metadata": {},
   "source": [
    "For speed purposes, we will only tune three hyperparameters: each hyperparameter will have two alternatives.\n",
    "+ `HP_DROPOUT` = {0.1, 0.25}\n",
    "+ `HP_NUM_UNITS` = {64, 128}\n",
    "+ `HP_OPTIMIZER` = {adam, sgd}"
   ]
  },
  {
   "cell_type": "code",
   "execution_count": 51,
   "id": "88eb33bc-57f6-431e-b3d3-7e7632bf7f59",
   "metadata": {
    "gradient": {}
   },
   "outputs": [],
   "source": [
    "HP_NUM_UNITS = hp.HParam('num_units', hp.Discrete([64, 128]))\n",
    "HP_DROPOUT = hp.HParam('dropout', hp.RealInterval(0.1, 0.25))\n",
    "HP_OPTIMIZER = hp.HParam('optimizer', hp.Discrete(['adam', 'sgd']))\n",
    "\n",
    "METRIC_ACCURACY = 'accuracy'\n",
    "\n",
    "with tf.summary.create_file_writer('logs/hparam_tuning').as_default():\n",
    "  hp.hparams_config(\n",
    "    hparams=[HP_NUM_UNITS, HP_DROPOUT, HP_OPTIMIZER],\n",
    "    metrics=[hp.Metric(METRIC_ACCURACY, display_name='Accuracy')],\n",
    "  )\n"
   ]
  },
  {
   "cell_type": "markdown",
   "id": "a7274d4f",
   "metadata": {},
   "source": [
    "The code below is explained in `eda.ipynb`."
   ]
  },
  {
   "cell_type": "code",
   "execution_count": 52,
   "id": "db64cf22",
   "metadata": {
    "gradient": {}
   },
   "outputs": [],
   "source": [
    "data_dir = pathlib.Path('data/mini_speech_commands')\n",
    "if not data_dir.exists():\n",
    "  tf.keras.utils.get_file(\n",
    "      'mini_speech_commands.zip',\n",
    "      origin=\"http://storage.googleapis.com/download.tensorflow.org/data/mini_speech_commands.zip\",\n",
    "      extract=True,\n",
    "      cache_dir='.', cache_subdir='data')\n"
   ]
  },
  {
   "cell_type": "code",
   "execution_count": 53,
   "id": "eccc2caf",
   "metadata": {
    "gradient": {}
   },
   "outputs": [],
   "source": [
    "commands = np.array(tf.io.gfile.listdir(str(data_dir)))\n",
    "commands = commands[commands != 'README.md']\n",
    "\n",
    "filenames = tf.io.gfile.glob(str(data_dir) + '/*/*')\n",
    "filenames = tf.random.shuffle(filenames)\n",
    "num_samples = len(filenames)\n",
    "\n",
    "train_files = filenames[:6400]\n",
    "val_files = filenames[6400: 6400 + 800]\n",
    "test_files = filenames[-800:]"
   ]
  },
  {
   "cell_type": "code",
   "execution_count": 54,
   "id": "f4af22cf",
   "metadata": {
    "gradient": {}
   },
   "outputs": [],
   "source": [
    "def decode_audio(audio_binary):\n",
    "  audio, _ = tf.audio.decode_wav(audio_binary)\n",
    "  return tf.squeeze(audio, axis=-1)"
   ]
  },
  {
   "cell_type": "code",
   "execution_count": 55,
   "id": "60eca807",
   "metadata": {
    "gradient": {}
   },
   "outputs": [],
   "source": [
    "def get_label(file_path):\n",
    "  parts = tf.strings.split(file_path, os.path.sep)\n",
    "  return parts[-2]"
   ]
  },
  {
   "cell_type": "code",
   "execution_count": 56,
   "id": "40fec25f",
   "metadata": {
    "gradient": {}
   },
   "outputs": [],
   "source": [
    "def get_waveform_and_label(file_path):\n",
    "  label = get_label(file_path)\n",
    "  audio_binary = tf.io.read_file(file_path)\n",
    "  waveform = decode_audio(audio_binary)\n",
    "  return waveform, label"
   ]
  },
  {
   "cell_type": "code",
   "execution_count": 57,
   "id": "b6096037",
   "metadata": {
    "gradient": {}
   },
   "outputs": [],
   "source": [
    "AUTOTUNE = tf.data.AUTOTUNE\n",
    "files_ds = tf.data.Dataset.from_tensor_slices(train_files)\n",
    "waveform_ds = files_ds.map(get_waveform_and_label, num_parallel_calls=AUTOTUNE)"
   ]
  },
  {
   "cell_type": "code",
   "execution_count": 58,
   "id": "e3ecc27b",
   "metadata": {
    "gradient": {}
   },
   "outputs": [],
   "source": [
    "def get_spectrogram(waveform):\n",
    "  # Padding for files with less than 16000 samples\n",
    "  zero_padding = tf.zeros([16000] - tf.shape(waveform), dtype=tf.float32)\n",
    "\n",
    "  # Concatenate audio with padding so that all audio clips will be of the \n",
    "  # same length\n",
    "  waveform = tf.cast(waveform, tf.float32)\n",
    "  equal_length = tf.concat([waveform, zero_padding], 0)\n",
    "  spectrogram = tf.signal.stft(\n",
    "      equal_length, frame_length=255, frame_step=128)\n",
    "\n",
    "  spectrogram = tf.abs(spectrogram)\n",
    "\n",
    "  return spectrogram"
   ]
  },
  {
   "cell_type": "code",
   "execution_count": 59,
   "id": "f606e9cd",
   "metadata": {
    "gradient": {}
   },
   "outputs": [],
   "source": [
    "def get_spectrogram_and_label_id(audio, label):\n",
    "  spectrogram = get_spectrogram(audio)\n",
    "  spectrogram = tf.expand_dims(spectrogram, -1)\n",
    "  label_id = tf.argmax(label == commands)\n",
    "  return spectrogram, label_id"
   ]
  },
  {
   "cell_type": "code",
   "execution_count": 60,
   "id": "5028ddee",
   "metadata": {
    "gradient": {}
   },
   "outputs": [],
   "source": [
    "spectrogram_ds = waveform_ds.map(\n",
    "    get_spectrogram_and_label_id, num_parallel_calls=AUTOTUNE)\n"
   ]
  },
  {
   "cell_type": "markdown",
   "id": "d736000a",
   "metadata": {},
   "source": [
    "## Dataset preprocessing\n",
    "\n",
    "We convert all the audio files to its respective spectrograms and get its labels."
   ]
  },
  {
   "cell_type": "code",
   "execution_count": 61,
   "id": "036b682c",
   "metadata": {
    "gradient": {}
   },
   "outputs": [],
   "source": [
    "def preprocess_dataset(files):\n",
    "  files_ds = tf.data.Dataset.from_tensor_slices(files)\n",
    "  output_ds = files_ds.map(get_waveform_and_label, num_parallel_calls=AUTOTUNE)\n",
    "  output_ds = output_ds.map(\n",
    "      get_spectrogram_and_label_id,  num_parallel_calls=AUTOTUNE)\n",
    "  return output_ds"
   ]
  },
  {
   "cell_type": "code",
   "execution_count": 62,
   "id": "a662753e",
   "metadata": {
    "gradient": {}
   },
   "outputs": [],
   "source": [
    "train_ds = preprocess_dataset(train_files)\n",
    "val_ds = preprocess_dataset(val_files)\n",
    "test_ds = preprocess_dataset(test_files)\n"
   ]
  },
  {
   "cell_type": "markdown",
   "id": "91edd442",
   "metadata": {},
   "source": [
    "A batch is a set of samples that will be used to improve the model in the training.\n",
    "\n",
    "Its size is 64 because it's recommended to use a power of two."
   ]
  },
  {
   "cell_type": "code",
   "execution_count": 63,
   "id": "eb6c5b85",
   "metadata": {
    "gradient": {}
   },
   "outputs": [],
   "source": [
    "batch_size = 64\n",
    "train_ds = train_ds.batch(batch_size)\n",
    "val_ds = val_ds.batch(batch_size)\n"
   ]
  },
  {
   "cell_type": "markdown",
   "id": "309a1726",
   "metadata": {},
   "source": [
    "`cache()` and `prefetch` operations reduces read latency while training the model."
   ]
  },
  {
   "cell_type": "code",
   "execution_count": 1,
   "id": "82bccf77",
   "metadata": {
    "collapsed": true,
    "gradient": {}
   },
   "outputs": [
    {
     "ename": "NameError",
     "evalue": "name 'train_ds' is not defined",
     "output_type": "error",
     "traceback": [
      "\u001b[1;31m---------------------------------------------------------------------------\u001b[0m",
      "\u001b[1;31mNameError\u001b[0m                                 Traceback (most recent call last)",
      "\u001b[1;32m<ipython-input-1-af0659add037>\u001b[0m in \u001b[0;36m<module>\u001b[1;34m\u001b[0m\n\u001b[1;32m----> 1\u001b[1;33m \u001b[0mtrain_ds\u001b[0m \u001b[1;33m=\u001b[0m \u001b[0mtrain_ds\u001b[0m\u001b[1;33m.\u001b[0m\u001b[0mcache\u001b[0m\u001b[1;33m(\u001b[0m\u001b[1;33m)\u001b[0m\u001b[1;33m.\u001b[0m\u001b[0mprefetch\u001b[0m\u001b[1;33m(\u001b[0m\u001b[0mAUTOTUNE\u001b[0m\u001b[1;33m)\u001b[0m\u001b[1;33m\u001b[0m\u001b[1;33m\u001b[0m\u001b[0m\n\u001b[0m\u001b[0;32m      2\u001b[0m \u001b[0mval_ds\u001b[0m \u001b[1;33m=\u001b[0m \u001b[0mval_ds\u001b[0m\u001b[1;33m.\u001b[0m\u001b[0mcache\u001b[0m\u001b[1;33m(\u001b[0m\u001b[1;33m)\u001b[0m\u001b[1;33m.\u001b[0m\u001b[0mprefetch\u001b[0m\u001b[1;33m(\u001b[0m\u001b[0mAUTOTUNE\u001b[0m\u001b[1;33m)\u001b[0m\u001b[1;33m\u001b[0m\u001b[1;33m\u001b[0m\u001b[0m\n",
      "\u001b[1;31mNameError\u001b[0m: name 'train_ds' is not defined"
     ]
    }
   ],
   "source": [
    "train_ds = train_ds.cache().prefetch(AUTOTUNE)\n",
    "val_ds = val_ds.cache().prefetch(AUTOTUNE)"
   ]
  },
  {
   "cell_type": "markdown",
   "id": "139f5bfc",
   "metadata": {},
   "source": [
    "Here we define the input shape for the Neural Network and the Normalization layer."
   ]
  },
  {
   "cell_type": "code",
   "execution_count": 65,
   "id": "80b39a71-56e7-4551-827d-501c63ceb61a",
   "metadata": {
    "gradient": {}
   },
   "outputs": [
    {
     "name": "stdout",
     "output_type": "stream",
     "text": [
      "Input shape: (124, 129, 1)\n"
     ]
    }
   ],
   "source": [
    "for spectrogram, _ in spectrogram_ds.take(1):\n",
    "  input_shape = spectrogram.shape\n",
    "print('Input shape:', input_shape)\n",
    "num_labels = len(commands)\n",
    "\n",
    "norm_layer = preprocessing.Normalization()\n",
    "norm_layer.adapt(spectrogram_ds.map(lambda x, _: x))"
   ]
  },
  {
   "cell_type": "markdown",
   "id": "c73f6d65",
   "metadata": {},
   "source": [
    "## Initial model\n",
    "This is the model definied in the tutorial."
   ]
  },
  {
   "cell_type": "code",
   "execution_count": 2,
   "id": "27d8d9da-7cfe-4655-8dd7-c4afe0cb1d48",
   "metadata": {
    "gradient": {}
   },
   "outputs": [],
   "source": [
    "def get_initial_model():\n",
    "    model = models.Sequential([\n",
    "        layers.Input(shape=input_shape),\n",
    "        preprocessing.Resizing(32, 32), \n",
    "        norm_layer,\n",
    "        layers.Conv2D(32, 3, activation='relu'),\n",
    "        layers.Conv2D(64, 3, activation='relu'),\n",
    "        layers.MaxPooling2D(),\n",
    "        layers.Dropout(0.25), #dropout of units: avoids overfitting and generalizes more\n",
    "        layers.Flatten(), #convert n-dimension input to 1-dimension output\n",
    "        layers.Dense(128, activation='relu'),#Full-conected layer\n",
    "        layers.Dropout(0.5),\n",
    "        layers.Dense(num_labels),#output\n",
    "    ])\n",
    "\n",
    "    model.summary()\n",
    "    return model"
   ]
  },
  {
   "cell_type": "markdown",
   "id": "3f2f9fdc",
   "metadata": {},
   "source": [
    "## Hyperparameter tuning\n",
    "This function will be called when tuning hyperparameters.\n",
    "\n",
    "The hyperparameters that will be tuned are:\n",
    "+ `HP_DROPOUT` for the dropout layers.\n",
    "+ `HP_NUM_UNITS` for the full-connected layer/dense.\n",
    "+ `HP_OPTIMIZER` for the training optimizer."
   ]
  },
  {
   "cell_type": "code",
   "execution_count": 26,
   "id": "ec586788-073f-4c13-873a-2e9dedc9efd5",
   "metadata": {
    "gradient": {}
   },
   "outputs": [],
   "source": [
    "def train_test_model_hparams(hparams):\n",
    "    print(input_shape)\n",
    "    model = models.Sequential([\n",
    "        layers.InputLayer(input_shape=input_shape),\n",
    "        preprocessing.Resizing(32, 32), \n",
    "        norm_layer,\n",
    "        layers.Conv2D(32, 3, activation='relu'),\n",
    "        layers.Conv2D(64, 3, activation='relu'),\n",
    "        layers.MaxPooling2D(),\n",
    "        layers.Dropout(hparams[HP_DROPOUT]),\n",
    "        layers.Conv2D(128, 3, activation='relu'),\n",
    "        layers.Conv2D(256, 3, activation='relu'),\n",
    "        layers.MaxPooling2D(),\n",
    "        layers.Dropout(hparams[HP_DROPOUT]),\n",
    "        layers.Flatten(),\n",
    "        layers.Dense(hparams[HP_NUM_UNITS], activation='relu'),\n",
    "        layers.Dropout(hparams[HP_DROPOUT]),\n",
    "        layers.Dense(num_labels),\n",
    "    ])\n",
    "    model.compile(\n",
    "          optimizer=hparams[HP_OPTIMIZER],\n",
    "          loss='sparse_categorical_crossentropy',\n",
    "          metrics=['accuracy'],\n",
    "    )\n",
    "    model.fit(train_ds, \n",
    "              validation_data=val_ds,  \n",
    "              batch_size=64, \n",
    "              epochs=10,\n",
    "              callbacks=tf.keras.callbacks.EarlyStopping(verbose=1, patience=2))\n",
    "    print(\"Finished training\")\n",
    "    _test_ds = test_ds.batch(batch_size)\n",
    "    _test_ds = _test_ds.cache().prefetch(AUTOTUNE)\n",
    "    _, accuracy = model.evaluate(_test_ds)\n",
    "    print(\"Finished evaluation\")\n",
    "    return accuracy"
   ]
  },
  {
   "cell_type": "code",
   "execution_count": 27,
   "id": "e786e71b-76b4-4092-be51-44d523cee047",
   "metadata": {
    "gradient": {}
   },
   "outputs": [],
   "source": [
    "def run(run_dir, hparams):\n",
    "    with tf.summary.create_file_writer(run_dir).as_default():\n",
    "        hp.hparams(hparams)  # record the values used in this trial\n",
    "        accuracy = train_test_model_hparams(hparams)\n",
    "        tf.summary.scalar(METRIC_ACCURACY, accuracy, step=1)\n"
   ]
  },
  {
   "cell_type": "markdown",
   "id": "dbb098aa",
   "metadata": {},
   "source": [
    "### Caution!!!\n",
    "Take a cup of coffe or go outside to take a walk, because tuning the hyperparametrs can take some time.\n",
    "\n",
    "What does this chunk of code is run all of the combinations of hyperparameters defined before.\n"
   ]
  },
  {
   "cell_type": "code",
   "execution_count": 28,
   "id": "9711332f-6016-4e3a-a374-ee36ec2f59ec",
   "metadata": {
    "gradient": {},
    "scrolled": true
   },
   "outputs": [
    {
     "name": "stdout",
     "output_type": "stream",
     "text": [
      "--- Starting trial: run-0\n",
      "{'num_units': 64, 'dropout': 0.1, 'optimizer': 'adam'}\n",
      "(124, 129, 1)\n",
      "Epoch 1/10\n",
      "100/100 [==============================] - 41s 402ms/step - loss: 3.2270 - accuracy: 0.1209 - val_loss: 2.0794 - val_accuracy: 0.1412\n",
      "Epoch 2/10\n",
      "100/100 [==============================] - 35s 351ms/step - loss: 2.1119 - accuracy: 0.1291 - val_loss: 2.0794 - val_accuracy: 0.1462\n",
      "Epoch 3/10\n",
      "100/100 [==============================] - 37s 374ms/step - loss: 2.0906 - accuracy: 0.1270 - val_loss: 2.0794 - val_accuracy: 0.1125\n",
      "Epoch 00003: early stopping\n",
      "Finished training\n",
      "13/13 [==============================] - 3s 223ms/step - loss: 2.0794 - accuracy: 0.1300\n",
      "Finished evaluation\n",
      "--- Starting trial: run-1\n",
      "{'num_units': 64, 'dropout': 0.1, 'optimizer': 'sgd'}\n",
      "(124, 129, 1)\n",
      "Epoch 1/10\n",
      "100/100 [==============================] - 37s 366ms/step - loss: 2.6712 - accuracy: 0.1198 - val_loss: 2.0794 - val_accuracy: 0.1250\n",
      "Epoch 2/10\n",
      "100/100 [==============================] - 39s 391ms/step - loss: 2.0905 - accuracy: 0.1227 - val_loss: 2.0794 - val_accuracy: 0.1250\n",
      "Epoch 3/10\n",
      "100/100 [==============================] - 40s 405ms/step - loss: 2.0860 - accuracy: 0.1227 - val_loss: 2.0794 - val_accuracy: 0.1250\n",
      "Epoch 00003: early stopping\n",
      "Finished training\n",
      "13/13 [==============================] - 2s 131ms/step - loss: 2.0794 - accuracy: 0.1437\n",
      "Finished evaluation\n",
      "--- Starting trial: run-2\n",
      "{'num_units': 64, 'dropout': 0.25, 'optimizer': 'adam'}\n",
      "(124, 129, 1)\n",
      "Epoch 1/10\n",
      "100/100 [==============================] - 38s 367ms/step - loss: 2.5319 - accuracy: 0.1314 - val_loss: 2.0794 - val_accuracy: 0.1275\n",
      "Epoch 2/10\n",
      "100/100 [==============================] - 37s 369ms/step - loss: 2.0910 - accuracy: 0.1269 - val_loss: 2.0794 - val_accuracy: 0.1412\n",
      "Epoch 3/10\n",
      "100/100 [==============================] - 35s 347ms/step - loss: 2.0972 - accuracy: 0.1262 - val_loss: 2.0794 - val_accuracy: 0.1187\n",
      "Epoch 00003: early stopping\n",
      "Finished training\n",
      "13/13 [==============================] - 2s 122ms/step - loss: 2.0794 - accuracy: 0.1163\n",
      "Finished evaluation\n",
      "--- Starting trial: run-3\n",
      "{'num_units': 64, 'dropout': 0.25, 'optimizer': 'sgd'}\n",
      "(124, 129, 1)\n",
      "Epoch 1/10\n",
      "100/100 [==============================] - 34s 333ms/step - loss: 2.2556 - accuracy: 0.1273 - val_loss: 2.0794 - val_accuracy: 0.1112\n",
      "Epoch 2/10\n",
      "100/100 [==============================] - 33s 333ms/step - loss: 2.0794 - accuracy: 0.1248 - val_loss: 2.0794 - val_accuracy: 0.1112\n",
      "Epoch 3/10\n",
      "100/100 [==============================] - 33s 332ms/step - loss: 2.1010 - accuracy: 0.1270 - val_loss: 2.0794 - val_accuracy: 0.1138\n",
      "Epoch 00003: early stopping\n",
      "Finished training\n",
      "13/13 [==============================] - 2s 123ms/step - loss: 2.0794 - accuracy: 0.1462\n",
      "Finished evaluation\n",
      "--- Starting trial: run-4\n",
      "{'num_units': 128, 'dropout': 0.1, 'optimizer': 'adam'}\n",
      "(124, 129, 1)\n",
      "Epoch 1/10\n",
      "100/100 [==============================] - 34s 334ms/step - loss: 2.2566 - accuracy: 0.1213 - val_loss: 2.0794 - val_accuracy: 0.1275\n",
      "Epoch 2/10\n",
      "100/100 [==============================] - 33s 335ms/step - loss: 2.0816 - accuracy: 0.1264 - val_loss: 2.0794 - val_accuracy: 0.1275\n",
      "Epoch 3/10\n",
      "100/100 [==============================] - 33s 334ms/step - loss: 2.0794 - accuracy: 0.1264 - val_loss: 2.0794 - val_accuracy: 0.1275\n",
      "Epoch 00003: early stopping\n",
      "Finished training\n",
      "13/13 [==============================] - 2s 122ms/step - loss: 2.0794 - accuracy: 0.1200\n",
      "Finished evaluation\n",
      "--- Starting trial: run-5\n",
      "{'num_units': 128, 'dropout': 0.1, 'optimizer': 'sgd'}\n",
      "(124, 129, 1)\n",
      "Epoch 1/10\n",
      "100/100 [==============================] - 35s 343ms/step - loss: 4.2016 - accuracy: 0.1241 - val_loss: 2.0794 - val_accuracy: 0.1250\n",
      "Epoch 2/10\n",
      "100/100 [==============================] - 33s 335ms/step - loss: 2.0845 - accuracy: 0.1280 - val_loss: 2.0794 - val_accuracy: 0.1250\n",
      "Epoch 3/10\n",
      "100/100 [==============================] - 34s 339ms/step - loss: 2.0825 - accuracy: 0.1209 - val_loss: 2.0794 - val_accuracy: 0.1163\n",
      "Epoch 00003: early stopping\n",
      "Finished training\n",
      "13/13 [==============================] - 2s 119ms/step - loss: 2.0794 - accuracy: 0.1013\n",
      "Finished evaluation\n",
      "--- Starting trial: run-6\n",
      "{'num_units': 128, 'dropout': 0.25, 'optimizer': 'adam'}\n",
      "(124, 129, 1)\n",
      "Epoch 1/10\n",
      "100/100 [==============================] - 35s 340ms/step - loss: 2.4140 - accuracy: 0.1345 - val_loss: 2.0799 - val_accuracy: 0.1163\n",
      "Epoch 2/10\n",
      "100/100 [==============================] - 34s 344ms/step - loss: 2.0935 - accuracy: 0.1280 - val_loss: 2.0794 - val_accuracy: 0.1163\n",
      "Epoch 3/10\n",
      "100/100 [==============================] - 34s 338ms/step - loss: 2.0960 - accuracy: 0.1302 - val_loss: 2.0794 - val_accuracy: 0.1250\n",
      "Epoch 4/10\n",
      "100/100 [==============================] - 34s 339ms/step - loss: 2.0873 - accuracy: 0.1330 - val_loss: 2.0794 - val_accuracy: 0.1225\n",
      "Epoch 00004: early stopping\n",
      "Finished training\n",
      "13/13 [==============================] - 2s 121ms/step - loss: 2.0794 - accuracy: 0.1700\n",
      "Finished evaluation\n",
      "--- Starting trial: run-7\n",
      "{'num_units': 128, 'dropout': 0.25, 'optimizer': 'sgd'}\n",
      "(124, 129, 1)\n",
      "Epoch 1/10\n",
      "100/100 [==============================] - 35s 340ms/step - loss: 3.0505 - accuracy: 0.1273 - val_loss: 2.0794 - val_accuracy: 0.1262\n",
      "Epoch 2/10\n",
      "100/100 [==============================] - 34s 337ms/step - loss: 2.1057 - accuracy: 0.1267 - val_loss: 2.0794 - val_accuracy: 0.1262\n",
      "Epoch 3/10\n",
      "100/100 [==============================] - 34s 337ms/step - loss: 2.0950 - accuracy: 0.1267 - val_loss: 2.0794 - val_accuracy: 0.1262\n",
      "Epoch 00003: early stopping\n",
      "Finished training\n",
      "13/13 [==============================] - 2s 123ms/step - loss: 2.0794 - accuracy: 0.1100\n",
      "Finished evaluation\n"
     ]
    }
   ],
   "source": [
    "session_num = 0\n",
    "\n",
    "for num_units in HP_NUM_UNITS.domain.values:\n",
    "  for dropout_rate in (HP_DROPOUT.domain.min_value, HP_DROPOUT.domain.max_value):\n",
    "    for optimizer in HP_OPTIMIZER.domain.values:\n",
    "      hparams = {\n",
    "          HP_NUM_UNITS: num_units,\n",
    "          HP_DROPOUT: dropout_rate,\n",
    "          HP_OPTIMIZER: optimizer,\n",
    "      }\n",
    "      run_name = \"run-%d\" % session_num\n",
    "      print('--- Starting trial: %s' % run_name)\n",
    "      print({h.name: hparams[h] for h in hparams})\n",
    "      run('logs/hparam_tuning/' + run_name, hparams)\n",
    "      session_num += 1"
   ]
  },
  {
   "cell_type": "markdown",
   "id": "655b6fff",
   "metadata": {},
   "source": [
    "## TensorBoard\n",
    "\n",
    "Here you can execute TensorBoard using the logs created previously. \n",
    "\n",
    "TensorBoard can be used to visualize the model. In our case we will be using it to visualize the results of hyperparameter tuning done before."
   ]
  },
  {
   "cell_type": "code",
   "execution_count": 29,
   "id": "af6ae63e-0221-455c-bb4d-bdaf3ebef5e0",
   "metadata": {
    "collapsed": true,
    "gradient": {}
   },
   "outputs": [
    {
     "data": {
      "text/html": [
       "\n",
       "      <iframe id=\"tensorboard-frame-4b5e2a97cc4195d9\" width=\"100%\" height=\"800\" frameborder=\"0\">\n",
       "      </iframe>\n",
       "      <script>\n",
       "        (function() {\n",
       "          const frame = document.getElementById(\"tensorboard-frame-4b5e2a97cc4195d9\");\n",
       "          const url = new URL(\"/\", window.location);\n",
       "          const port = 6366;\n",
       "          if (port) {\n",
       "            url.port = port;\n",
       "          }\n",
       "          frame.src = url;\n",
       "        })();\n",
       "      </script>\n",
       "    "
      ],
      "text/plain": [
       "<IPython.core.display.HTML object>"
      ]
     },
     "metadata": {},
     "output_type": "display_data"
    }
   ],
   "source": [
    "%tensorboard --logdir logs/hparam_tuning --port=6366"
   ]
  },
  {
   "cell_type": "markdown",
   "id": "725dc974",
   "metadata": {},
   "source": [
    "## Custom model\n",
    "\n",
    "Hyperparameters from the previous tuning and added some new layers."
   ]
  },
  {
   "cell_type": "code",
   "execution_count": 67,
   "id": "4be22b2b-f9f1-45bb-8acd-974924d99247",
   "metadata": {
    "gradient": {}
   },
   "outputs": [],
   "source": [
    "def get_custom_model():\n",
    "    model = models.Sequential([\n",
    "        layers.InputLayer(input_shape=input_shape),\n",
    "        preprocessing.Resizing(64, 64), \n",
    "        norm_layer,\n",
    "        layers.Conv2D(32, 3, activation='relu'),\n",
    "        layers.Conv2D(64, 3, activation='relu'),\n",
    "        layers.MaxPooling2D(),\n",
    "        layers.Dropout(0.25),\n",
    "        layers.Conv2D(128, 3, activation='relu'),\n",
    "        layers.Conv2D(256, 3, activation='relu'),\n",
    "        layers.MaxPooling2D(),\n",
    "        layers.Dropout(0.25),\n",
    "        layers.Flatten(),\n",
    "        layers.Dense(128, activation='relu'),\n",
    "        layers.Dropout(0.25),\n",
    "        layers.Dense(num_labels),\n",
    "    ])\n",
    "    model.summary()\n",
    "    return model"
   ]
  },
  {
   "cell_type": "markdown",
   "id": "8d9702fd",
   "metadata": {},
   "source": [
    "## Training and testing\n",
    "\n",
    "This function compiles, trains and tests the given model.\n",
    "\n",
    "It trains with 100 epochs, but because we are using `tf.keras.callbacks.EarlyStopping`, the program will know in which epoch to stop. It usually stops at 10 epochs."
   ]
  },
  {
   "cell_type": "code",
   "execution_count": 3,
   "id": "92047d97-9c9b-4c23-b295-4ec4995ea71c",
   "metadata": {
    "gradient": {}
   },
   "outputs": [],
   "source": [
    "def train_test_model(model):\n",
    "    model.compile(\n",
    "        optimizer=tf.keras.optimizers.Adam(),\n",
    "        loss=tf.keras.losses.SparseCategoricalCrossentropy(from_logits=True),\n",
    "        metrics=['accuracy'],\n",
    "    )\n",
    "    EPOCHS = 100\n",
    "    history = model.fit(train_ds, \n",
    "              validation_data=val_ds,  \n",
    "              batch_size=64, \n",
    "              epochs=EPOCHS,\n",
    "              callbacks=tf.keras.callbacks.EarlyStopping(verbose=1, patience=2))\n",
    "    print(\"Finished training\")\n",
    "    \n",
    "    metrics = history.history\n",
    "    plt.plot(history.epoch, metrics['loss'], metrics['val_loss'])\n",
    "    plt.legend(['loss', 'val_loss'])\n",
    "    plt.show()\n",
    "    \n",
    "    _test_ds = test_ds.batch(batch_size)\n",
    "    _test_ds = _test_ds.cache().prefetch(AUTOTUNE)\n",
    "    _, accuracy = model.evaluate(_test_ds)\n",
    "    print(\"Finished evaluation\")\n",
    "    return accuracy"
   ]
  },
  {
   "cell_type": "markdown",
   "id": "93d9835e",
   "metadata": {},
   "source": [
    "Here you can select which model to train and test."
   ]
  },
  {
   "cell_type": "code",
   "execution_count": 69,
   "id": "341a3a07-918f-4f52-ada0-5ec76d292820",
   "metadata": {
    "collapsed": true,
    "gradient": {}
   },
   "outputs": [
    {
     "name": "stdout",
     "output_type": "stream",
     "text": [
      "Model: \"sequential_9\"\n",
      "_________________________________________________________________\n",
      "Layer (type)                 Output Shape              Param #   \n",
      "=================================================================\n",
      "resizing_9 (Resizing)        (None, 64, 64, 1)         0         \n",
      "_________________________________________________________________\n",
      "normalization_1 (Normalizati (None, 64, 64, 1)         3         \n",
      "_________________________________________________________________\n",
      "conv2d_36 (Conv2D)           (None, 62, 62, 32)        320       \n",
      "_________________________________________________________________\n",
      "conv2d_37 (Conv2D)           (None, 60, 60, 64)        18496     \n",
      "_________________________________________________________________\n",
      "max_pooling2d_18 (MaxPooling (None, 30, 30, 64)        0         \n",
      "_________________________________________________________________\n",
      "dropout_27 (Dropout)         (None, 30, 30, 64)        0         \n",
      "_________________________________________________________________\n",
      "conv2d_38 (Conv2D)           (None, 28, 28, 128)       73856     \n",
      "_________________________________________________________________\n",
      "conv2d_39 (Conv2D)           (None, 26, 26, 256)       295168    \n",
      "_________________________________________________________________\n",
      "max_pooling2d_19 (MaxPooling (None, 13, 13, 256)       0         \n",
      "_________________________________________________________________\n",
      "dropout_28 (Dropout)         (None, 13, 13, 256)       0         \n",
      "_________________________________________________________________\n",
      "flatten_9 (Flatten)          (None, 43264)             0         \n",
      "_________________________________________________________________\n",
      "dense_18 (Dense)             (None, 128)               5537920   \n",
      "_________________________________________________________________\n",
      "dropout_29 (Dropout)         (None, 128)               0         \n",
      "_________________________________________________________________\n",
      "dense_19 (Dense)             (None, 8)                 1032      \n",
      "=================================================================\n",
      "Total params: 5,926,795\n",
      "Trainable params: 5,926,792\n",
      "Non-trainable params: 3\n",
      "_________________________________________________________________\n",
      "Epoch 1/100\n",
      " 22/100 [=====>........................] - ETA: 2:18 - loss: 1.9868 - accuracy: 0.2536"
     ]
    },
    {
     "ename": "KeyboardInterrupt",
     "evalue": "",
     "output_type": "error",
     "traceback": [
      "\u001b[1;31m---------------------------------------------------------------------------\u001b[0m",
      "\u001b[1;31mKeyboardInterrupt\u001b[0m                         Traceback (most recent call last)",
      "\u001b[1;32m<ipython-input-69-7204f1dd978a>\u001b[0m in \u001b[0;36m<module>\u001b[1;34m\u001b[0m\n\u001b[0;32m      1\u001b[0m \u001b[1;31m#model = get_initial_model()\u001b[0m\u001b[1;33m\u001b[0m\u001b[1;33m\u001b[0m\u001b[1;33m\u001b[0m\u001b[0m\n\u001b[0;32m      2\u001b[0m \u001b[0mmodel\u001b[0m \u001b[1;33m=\u001b[0m \u001b[0mget_custom_model\u001b[0m\u001b[1;33m(\u001b[0m\u001b[1;33m)\u001b[0m\u001b[1;33m\u001b[0m\u001b[1;33m\u001b[0m\u001b[0m\n\u001b[1;32m----> 3\u001b[1;33m \u001b[0mtest_acc\u001b[0m \u001b[1;33m=\u001b[0m \u001b[0mtrain_test_model\u001b[0m\u001b[1;33m(\u001b[0m\u001b[0mmodel\u001b[0m\u001b[1;33m)\u001b[0m\u001b[1;33m\u001b[0m\u001b[1;33m\u001b[0m\u001b[0m\n\u001b[0m\u001b[0;32m      4\u001b[0m \u001b[0mprint\u001b[0m\u001b[1;33m(\u001b[0m\u001b[1;34mf'Test set accuracy: {test_acc:.0%}'\u001b[0m\u001b[1;33m)\u001b[0m\u001b[1;33m\u001b[0m\u001b[1;33m\u001b[0m\u001b[0m\n",
      "\u001b[1;32m<ipython-input-68-9f93ecc4890a>\u001b[0m in \u001b[0;36mtrain_test_model\u001b[1;34m(model)\u001b[0m\n\u001b[0;32m      6\u001b[0m     )\n\u001b[0;32m      7\u001b[0m     \u001b[0mEPOCHS\u001b[0m \u001b[1;33m=\u001b[0m \u001b[1;36m100\u001b[0m\u001b[1;33m\u001b[0m\u001b[1;33m\u001b[0m\u001b[0m\n\u001b[1;32m----> 8\u001b[1;33m     history = model.fit(train_ds, \n\u001b[0m\u001b[0;32m      9\u001b[0m               \u001b[0mvalidation_data\u001b[0m\u001b[1;33m=\u001b[0m\u001b[0mval_ds\u001b[0m\u001b[1;33m,\u001b[0m\u001b[1;33m\u001b[0m\u001b[1;33m\u001b[0m\u001b[0m\n\u001b[0;32m     10\u001b[0m               \u001b[0mbatch_size\u001b[0m\u001b[1;33m=\u001b[0m\u001b[1;36m64\u001b[0m\u001b[1;33m,\u001b[0m\u001b[1;33m\u001b[0m\u001b[1;33m\u001b[0m\u001b[0m\n",
      "\u001b[1;32m~\\anaconda3\\envs\\tf_apai\\lib\\site-packages\\tensorflow\\python\\keras\\engine\\training.py\u001b[0m in \u001b[0;36mfit\u001b[1;34m(self, x, y, batch_size, epochs, verbose, callbacks, validation_split, validation_data, shuffle, class_weight, sample_weight, initial_epoch, steps_per_epoch, validation_steps, validation_batch_size, validation_freq, max_queue_size, workers, use_multiprocessing)\u001b[0m\n\u001b[0;32m   1181\u001b[0m                 _r=1):\n\u001b[0;32m   1182\u001b[0m               \u001b[0mcallbacks\u001b[0m\u001b[1;33m.\u001b[0m\u001b[0mon_train_batch_begin\u001b[0m\u001b[1;33m(\u001b[0m\u001b[0mstep\u001b[0m\u001b[1;33m)\u001b[0m\u001b[1;33m\u001b[0m\u001b[1;33m\u001b[0m\u001b[0m\n\u001b[1;32m-> 1183\u001b[1;33m               \u001b[0mtmp_logs\u001b[0m \u001b[1;33m=\u001b[0m \u001b[0mself\u001b[0m\u001b[1;33m.\u001b[0m\u001b[0mtrain_function\u001b[0m\u001b[1;33m(\u001b[0m\u001b[0miterator\u001b[0m\u001b[1;33m)\u001b[0m\u001b[1;33m\u001b[0m\u001b[1;33m\u001b[0m\u001b[0m\n\u001b[0m\u001b[0;32m   1184\u001b[0m               \u001b[1;32mif\u001b[0m \u001b[0mdata_handler\u001b[0m\u001b[1;33m.\u001b[0m\u001b[0mshould_sync\u001b[0m\u001b[1;33m:\u001b[0m\u001b[1;33m\u001b[0m\u001b[1;33m\u001b[0m\u001b[0m\n\u001b[0;32m   1185\u001b[0m                 \u001b[0mcontext\u001b[0m\u001b[1;33m.\u001b[0m\u001b[0masync_wait\u001b[0m\u001b[1;33m(\u001b[0m\u001b[1;33m)\u001b[0m\u001b[1;33m\u001b[0m\u001b[1;33m\u001b[0m\u001b[0m\n",
      "\u001b[1;32m~\\anaconda3\\envs\\tf_apai\\lib\\site-packages\\tensorflow\\python\\eager\\def_function.py\u001b[0m in \u001b[0;36m__call__\u001b[1;34m(self, *args, **kwds)\u001b[0m\n\u001b[0;32m    887\u001b[0m \u001b[1;33m\u001b[0m\u001b[0m\n\u001b[0;32m    888\u001b[0m       \u001b[1;32mwith\u001b[0m \u001b[0mOptionalXlaContext\u001b[0m\u001b[1;33m(\u001b[0m\u001b[0mself\u001b[0m\u001b[1;33m.\u001b[0m\u001b[0m_jit_compile\u001b[0m\u001b[1;33m)\u001b[0m\u001b[1;33m:\u001b[0m\u001b[1;33m\u001b[0m\u001b[1;33m\u001b[0m\u001b[0m\n\u001b[1;32m--> 889\u001b[1;33m         \u001b[0mresult\u001b[0m \u001b[1;33m=\u001b[0m \u001b[0mself\u001b[0m\u001b[1;33m.\u001b[0m\u001b[0m_call\u001b[0m\u001b[1;33m(\u001b[0m\u001b[1;33m*\u001b[0m\u001b[0margs\u001b[0m\u001b[1;33m,\u001b[0m \u001b[1;33m**\u001b[0m\u001b[0mkwds\u001b[0m\u001b[1;33m)\u001b[0m\u001b[1;33m\u001b[0m\u001b[1;33m\u001b[0m\u001b[0m\n\u001b[0m\u001b[0;32m    890\u001b[0m \u001b[1;33m\u001b[0m\u001b[0m\n\u001b[0;32m    891\u001b[0m       \u001b[0mnew_tracing_count\u001b[0m \u001b[1;33m=\u001b[0m \u001b[0mself\u001b[0m\u001b[1;33m.\u001b[0m\u001b[0mexperimental_get_tracing_count\u001b[0m\u001b[1;33m(\u001b[0m\u001b[1;33m)\u001b[0m\u001b[1;33m\u001b[0m\u001b[1;33m\u001b[0m\u001b[0m\n",
      "\u001b[1;32m~\\anaconda3\\envs\\tf_apai\\lib\\site-packages\\tensorflow\\python\\eager\\def_function.py\u001b[0m in \u001b[0;36m_call\u001b[1;34m(self, *args, **kwds)\u001b[0m\n\u001b[0;32m    915\u001b[0m       \u001b[1;31m# In this case we have created variables on the first call, so we run the\u001b[0m\u001b[1;33m\u001b[0m\u001b[1;33m\u001b[0m\u001b[1;33m\u001b[0m\u001b[0m\n\u001b[0;32m    916\u001b[0m       \u001b[1;31m# defunned version which is guaranteed to never create variables.\u001b[0m\u001b[1;33m\u001b[0m\u001b[1;33m\u001b[0m\u001b[1;33m\u001b[0m\u001b[0m\n\u001b[1;32m--> 917\u001b[1;33m       \u001b[1;32mreturn\u001b[0m \u001b[0mself\u001b[0m\u001b[1;33m.\u001b[0m\u001b[0m_stateless_fn\u001b[0m\u001b[1;33m(\u001b[0m\u001b[1;33m*\u001b[0m\u001b[0margs\u001b[0m\u001b[1;33m,\u001b[0m \u001b[1;33m**\u001b[0m\u001b[0mkwds\u001b[0m\u001b[1;33m)\u001b[0m  \u001b[1;31m# pylint: disable=not-callable\u001b[0m\u001b[1;33m\u001b[0m\u001b[1;33m\u001b[0m\u001b[0m\n\u001b[0m\u001b[0;32m    918\u001b[0m     \u001b[1;32melif\u001b[0m \u001b[0mself\u001b[0m\u001b[1;33m.\u001b[0m\u001b[0m_stateful_fn\u001b[0m \u001b[1;32mis\u001b[0m \u001b[1;32mnot\u001b[0m \u001b[1;32mNone\u001b[0m\u001b[1;33m:\u001b[0m\u001b[1;33m\u001b[0m\u001b[1;33m\u001b[0m\u001b[0m\n\u001b[0;32m    919\u001b[0m       \u001b[1;31m# Release the lock early so that multiple threads can perform the call\u001b[0m\u001b[1;33m\u001b[0m\u001b[1;33m\u001b[0m\u001b[1;33m\u001b[0m\u001b[0m\n",
      "\u001b[1;32m~\\anaconda3\\envs\\tf_apai\\lib\\site-packages\\tensorflow\\python\\eager\\function.py\u001b[0m in \u001b[0;36m__call__\u001b[1;34m(self, *args, **kwargs)\u001b[0m\n\u001b[0;32m   3021\u001b[0m       (graph_function,\n\u001b[0;32m   3022\u001b[0m        filtered_flat_args) = self._maybe_define_function(args, kwargs)\n\u001b[1;32m-> 3023\u001b[1;33m     return graph_function._call_flat(\n\u001b[0m\u001b[0;32m   3024\u001b[0m         filtered_flat_args, captured_inputs=graph_function.captured_inputs)  # pylint: disable=protected-access\n\u001b[0;32m   3025\u001b[0m \u001b[1;33m\u001b[0m\u001b[0m\n",
      "\u001b[1;32m~\\anaconda3\\envs\\tf_apai\\lib\\site-packages\\tensorflow\\python\\eager\\function.py\u001b[0m in \u001b[0;36m_call_flat\u001b[1;34m(self, args, captured_inputs, cancellation_manager)\u001b[0m\n\u001b[0;32m   1958\u001b[0m         and executing_eagerly):\n\u001b[0;32m   1959\u001b[0m       \u001b[1;31m# No tape is watching; skip to running the function.\u001b[0m\u001b[1;33m\u001b[0m\u001b[1;33m\u001b[0m\u001b[1;33m\u001b[0m\u001b[0m\n\u001b[1;32m-> 1960\u001b[1;33m       return self._build_call_outputs(self._inference_function.call(\n\u001b[0m\u001b[0;32m   1961\u001b[0m           ctx, args, cancellation_manager=cancellation_manager))\n\u001b[0;32m   1962\u001b[0m     forward_backward = self._select_forward_and_backward_functions(\n",
      "\u001b[1;32m~\\anaconda3\\envs\\tf_apai\\lib\\site-packages\\tensorflow\\python\\eager\\function.py\u001b[0m in \u001b[0;36mcall\u001b[1;34m(self, ctx, args, cancellation_manager)\u001b[0m\n\u001b[0;32m    589\u001b[0m       \u001b[1;32mwith\u001b[0m \u001b[0m_InterpolateFunctionError\u001b[0m\u001b[1;33m(\u001b[0m\u001b[0mself\u001b[0m\u001b[1;33m)\u001b[0m\u001b[1;33m:\u001b[0m\u001b[1;33m\u001b[0m\u001b[1;33m\u001b[0m\u001b[0m\n\u001b[0;32m    590\u001b[0m         \u001b[1;32mif\u001b[0m \u001b[0mcancellation_manager\u001b[0m \u001b[1;32mis\u001b[0m \u001b[1;32mNone\u001b[0m\u001b[1;33m:\u001b[0m\u001b[1;33m\u001b[0m\u001b[1;33m\u001b[0m\u001b[0m\n\u001b[1;32m--> 591\u001b[1;33m           outputs = execute.execute(\n\u001b[0m\u001b[0;32m    592\u001b[0m               \u001b[0mstr\u001b[0m\u001b[1;33m(\u001b[0m\u001b[0mself\u001b[0m\u001b[1;33m.\u001b[0m\u001b[0msignature\u001b[0m\u001b[1;33m.\u001b[0m\u001b[0mname\u001b[0m\u001b[1;33m)\u001b[0m\u001b[1;33m,\u001b[0m\u001b[1;33m\u001b[0m\u001b[1;33m\u001b[0m\u001b[0m\n\u001b[0;32m    593\u001b[0m               \u001b[0mnum_outputs\u001b[0m\u001b[1;33m=\u001b[0m\u001b[0mself\u001b[0m\u001b[1;33m.\u001b[0m\u001b[0m_num_outputs\u001b[0m\u001b[1;33m,\u001b[0m\u001b[1;33m\u001b[0m\u001b[1;33m\u001b[0m\u001b[0m\n",
      "\u001b[1;32m~\\anaconda3\\envs\\tf_apai\\lib\\site-packages\\tensorflow\\python\\eager\\execute.py\u001b[0m in \u001b[0;36mquick_execute\u001b[1;34m(op_name, num_outputs, inputs, attrs, ctx, name)\u001b[0m\n\u001b[0;32m     57\u001b[0m   \u001b[1;32mtry\u001b[0m\u001b[1;33m:\u001b[0m\u001b[1;33m\u001b[0m\u001b[1;33m\u001b[0m\u001b[0m\n\u001b[0;32m     58\u001b[0m     \u001b[0mctx\u001b[0m\u001b[1;33m.\u001b[0m\u001b[0mensure_initialized\u001b[0m\u001b[1;33m(\u001b[0m\u001b[1;33m)\u001b[0m\u001b[1;33m\u001b[0m\u001b[1;33m\u001b[0m\u001b[0m\n\u001b[1;32m---> 59\u001b[1;33m     tensors = pywrap_tfe.TFE_Py_Execute(ctx._handle, device_name, op_name,\n\u001b[0m\u001b[0;32m     60\u001b[0m                                         inputs, attrs, num_outputs)\n\u001b[0;32m     61\u001b[0m   \u001b[1;32mexcept\u001b[0m \u001b[0mcore\u001b[0m\u001b[1;33m.\u001b[0m\u001b[0m_NotOkStatusException\u001b[0m \u001b[1;32mas\u001b[0m \u001b[0me\u001b[0m\u001b[1;33m:\u001b[0m\u001b[1;33m\u001b[0m\u001b[1;33m\u001b[0m\u001b[0m\n",
      "\u001b[1;31mKeyboardInterrupt\u001b[0m: "
     ]
    }
   ],
   "source": [
    "#model = get_initial_model()\n",
    "model = get_custom_model()\n",
    "test_acc = train_test_model(model)\n",
    "print(f'Test set accuracy: {test_acc:.0%}')"
   ]
  },
  {
   "cell_type": "markdown",
   "id": "9c626609",
   "metadata": {},
   "source": [
    "## Results visualization\n",
    "Here a heatmap of the given model is created. It tests with the test set."
   ]
  },
  {
   "cell_type": "code",
   "execution_count": 27,
   "id": "1352015e-137a-4808-b48a-d379492bd8b5",
   "metadata": {
    "gradient": {}
   },
   "outputs": [],
   "source": [
    "def print_model_test_heatmap(model):\n",
    "    test_audio = []\n",
    "    test_labels = []\n",
    "\n",
    "    for audio, label in test_ds:\n",
    "        test_audio.append(audio.numpy())\n",
    "        test_labels.append(label.numpy())\n",
    "\n",
    "    test_audio = np.array(test_audio)\n",
    "    test_labels = np.array(test_labels)  \n",
    "\n",
    "    y_pred = np.argmax(model.predict(test_audio), axis=1)\n",
    "    y_true = test_labels\n",
    "\n",
    "    test_acc = sum(y_pred == y_true) / len(y_true)\n",
    "    #print(f'Test set accuracy: {test_acc:.0%}')\n",
    "    confusion_mtx = tf.math.confusion_matrix(y_true, y_pred) \n",
    "    plt.figure(figsize=(10, 8))\n",
    "    sns.heatmap(confusion_mtx, xticklabels=commands, yticklabels=commands, \n",
    "            annot=True, fmt='g')\n",
    "    plt.xlabel('Prediction')\n",
    "    plt.ylabel('Label')\n",
    "    plt.show()"
   ]
  },
  {
   "cell_type": "code",
   "execution_count": 28,
   "id": "a67cac1f",
   "metadata": {
    "gradient": {}
   },
   "outputs": [
    {
     "data": {
      "image/png": "[encoded data removed]",
      "text/plain": [
       "<Figure size 720x576 with 2 Axes>"
      ]
     },
     "metadata": {
      "needs_background": "light"
     },
     "output_type": "display_data"
    }
   ],
   "source": [
    "print_model_test_heatmap(model)"
   ]
  }
 ],
 "metadata": {
  "kernelspec": {
   "display_name": "Python 3",
   "language": "python",
   "name": "python3"
  },
  "language_info": {
   "codemirror_mode": {
    "name": "ipython",
    "version": 3
   },
   "file_extension": ".py",
   "mimetype": "text/x-python",
   "name": "python",
   "nbconvert_exporter": "python",
   "pygments_lexer": "ipython3",
   "version": "3.9.4"
  }
 },
 "nbformat": 4,
 "nbformat_minor": 5
}
